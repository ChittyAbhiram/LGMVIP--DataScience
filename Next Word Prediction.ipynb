{
 "cells": [
  {
   "cell_type": "markdown",
   "id": "f87cc1ec",
   "metadata": {},
   "source": [
    "# Next Word Prediction"
   ]
  },
  {
   "cell_type": "code",
   "execution_count": 16,
   "id": "244a6878",
   "metadata": {},
   "outputs": [],
   "source": [
    "import pandas as pd\n",
    "import os\n",
    "import numpy as np\n",
    "\n",
    "import tensorflow as tf\n",
    "from tensorflow.keras.preprocessing.sequence import pad_sequences\n",
    "from tensorflow.keras.layers import Embedding, LSTM, Dense, Bidirectional\n",
    "from tensorflow.keras.preprocessing.text import Tokenizer\n",
    "from tensorflow.keras.models import Sequential\n",
    "from tensorflow.keras.optimizers import Adam"
   ]
  },
  {
   "cell_type": "code",
   "execution_count": 2,
   "id": "ee28c5e7",
   "metadata": {},
   "outputs": [
    {
     "data": {
      "text/html": [
       "<div>\n",
       "<style scoped>\n",
       "    .dataframe tbody tr th:only-of-type {\n",
       "        vertical-align: middle;\n",
       "    }\n",
       "\n",
       "    .dataframe tbody tr th {\n",
       "        vertical-align: top;\n",
       "    }\n",
       "\n",
       "    .dataframe thead th {\n",
       "        text-align: right;\n",
       "    }\n",
       "</style>\n",
       "<table border=\"1\" class=\"dataframe\">\n",
       "  <thead>\n",
       "    <tr style=\"text-align: right;\">\n",
       "      <th></th>\n",
       "      <th>id</th>\n",
       "      <th>url</th>\n",
       "      <th>title</th>\n",
       "      <th>subtitle</th>\n",
       "      <th>image</th>\n",
       "      <th>claps</th>\n",
       "      <th>responses</th>\n",
       "      <th>reading_time</th>\n",
       "      <th>publication</th>\n",
       "      <th>date</th>\n",
       "    </tr>\n",
       "  </thead>\n",
       "  <tbody>\n",
       "    <tr>\n",
       "      <th>0</th>\n",
       "      <td>1</td>\n",
       "      <td>https://towardsdatascience.com/a-beginners-gui...</td>\n",
       "      <td>A Beginner’s Guide to Word Embedding with Gens...</td>\n",
       "      <td>NaN</td>\n",
       "      <td>1.png</td>\n",
       "      <td>850</td>\n",
       "      <td>8</td>\n",
       "      <td>8</td>\n",
       "      <td>Towards Data Science</td>\n",
       "      <td>2019-05-30</td>\n",
       "    </tr>\n",
       "    <tr>\n",
       "      <th>1</th>\n",
       "      <td>2</td>\n",
       "      <td>https://towardsdatascience.com/hands-on-graph-...</td>\n",
       "      <td>Hands-on Graph Neural Networks with PyTorch &amp; ...</td>\n",
       "      <td>NaN</td>\n",
       "      <td>2.png</td>\n",
       "      <td>1100</td>\n",
       "      <td>11</td>\n",
       "      <td>9</td>\n",
       "      <td>Towards Data Science</td>\n",
       "      <td>2019-05-30</td>\n",
       "    </tr>\n",
       "    <tr>\n",
       "      <th>2</th>\n",
       "      <td>3</td>\n",
       "      <td>https://towardsdatascience.com/how-to-use-ggpl...</td>\n",
       "      <td>How to Use ggplot2 in Python</td>\n",
       "      <td>A Grammar of Graphics for Python</td>\n",
       "      <td>3.png</td>\n",
       "      <td>767</td>\n",
       "      <td>1</td>\n",
       "      <td>5</td>\n",
       "      <td>Towards Data Science</td>\n",
       "      <td>2019-05-30</td>\n",
       "    </tr>\n",
       "    <tr>\n",
       "      <th>3</th>\n",
       "      <td>4</td>\n",
       "      <td>https://towardsdatascience.com/databricks-how-...</td>\n",
       "      <td>Databricks: How to Save Files in CSV on Your L...</td>\n",
       "      <td>When I work on Python projects dealing…</td>\n",
       "      <td>4.jpeg</td>\n",
       "      <td>354</td>\n",
       "      <td>0</td>\n",
       "      <td>4</td>\n",
       "      <td>Towards Data Science</td>\n",
       "      <td>2019-05-30</td>\n",
       "    </tr>\n",
       "    <tr>\n",
       "      <th>4</th>\n",
       "      <td>5</td>\n",
       "      <td>https://towardsdatascience.com/a-step-by-step-...</td>\n",
       "      <td>A Step-by-Step Implementation of Gradient Desc...</td>\n",
       "      <td>One example of building neural…</td>\n",
       "      <td>5.jpeg</td>\n",
       "      <td>211</td>\n",
       "      <td>3</td>\n",
       "      <td>4</td>\n",
       "      <td>Towards Data Science</td>\n",
       "      <td>2019-05-30</td>\n",
       "    </tr>\n",
       "  </tbody>\n",
       "</table>\n",
       "</div>"
      ],
      "text/plain": [
       "   id                                                url  \\\n",
       "0   1  https://towardsdatascience.com/a-beginners-gui...   \n",
       "1   2  https://towardsdatascience.com/hands-on-graph-...   \n",
       "2   3  https://towardsdatascience.com/how-to-use-ggpl...   \n",
       "3   4  https://towardsdatascience.com/databricks-how-...   \n",
       "4   5  https://towardsdatascience.com/a-step-by-step-...   \n",
       "\n",
       "                                               title  \\\n",
       "0  A Beginner’s Guide to Word Embedding with Gens...   \n",
       "1  Hands-on Graph Neural Networks with PyTorch & ...   \n",
       "2                       How to Use ggplot2 in Python   \n",
       "3  Databricks: How to Save Files in CSV on Your L...   \n",
       "4  A Step-by-Step Implementation of Gradient Desc...   \n",
       "\n",
       "                                  subtitle   image  claps responses  \\\n",
       "0                                      NaN   1.png    850         8   \n",
       "1                                      NaN   2.png   1100        11   \n",
       "2         A Grammar of Graphics for Python   3.png    767         1   \n",
       "3  When I work on Python projects dealing…  4.jpeg    354         0   \n",
       "4          One example of building neural…  5.jpeg    211         3   \n",
       "\n",
       "   reading_time           publication        date  \n",
       "0             8  Towards Data Science  2019-05-30  \n",
       "1             9  Towards Data Science  2019-05-30  \n",
       "2             5  Towards Data Science  2019-05-30  \n",
       "3             4  Towards Data Science  2019-05-30  \n",
       "4             4  Towards Data Science  2019-05-30  "
      ]
     },
     "execution_count": 2,
     "metadata": {},
     "output_type": "execute_result"
    }
   ],
   "source": [
    "medium_data = pd.read_csv(\"C:\\\\Users\\\\DELL\\\\Desktop\\\\LetsGrowMore\\\\medium_data.csv\")\n",
    "medium_data.head()"
   ]
  },
  {
   "cell_type": "code",
   "execution_count": 3,
   "id": "a6dcbd3c",
   "metadata": {},
   "outputs": [
    {
     "name": "stdout",
     "output_type": "stream",
     "text": [
      "Number of records:  6508\n",
      "Number of fields:  10\n"
     ]
    }
   ],
   "source": [
    "print(\"Number of records: \", medium_data.shape[0])\n",
    "print(\"Number of fields: \", medium_data.shape[1])"
   ]
  },
  {
   "cell_type": "markdown",
   "id": "233190db",
   "metadata": {},
   "source": [
    "# Display titles of various articles and preprocess them"
   ]
  },
  {
   "cell_type": "code",
   "execution_count": 4,
   "id": "a4a3d9a3",
   "metadata": {},
   "outputs": [
    {
     "data": {
      "text/plain": [
       "0       A Beginner’s Guide to Word Embedding with Gens...\n",
       "1       Hands-on Graph Neural Networks with PyTorch & ...\n",
       "2                            How to Use ggplot2 in Python\n",
       "3       Databricks: How to Save Files in CSV on Your L...\n",
       "4       A Step-by-Step Implementation of Gradient Desc...\n",
       "                              ...                        \n",
       "6503    “We” vs “I” — How Should You Talk About Yourse...\n",
       "6504                     How Donald Trump Markets Himself\n",
       "6505        Content and Marketing Beyond Mass Consumption\n",
       "6506    5 Questions All Copywriters Should Ask Clients...\n",
       "6507               How To Write a Good Business Blog Post\n",
       "Name: title, Length: 6508, dtype: object"
      ]
     },
     "execution_count": 4,
     "metadata": {},
     "output_type": "execute_result"
    }
   ],
   "source": [
    "medium_data['title']"
   ]
  },
  {
   "cell_type": "code",
   "execution_count": 5,
   "id": "aeec29c8",
   "metadata": {},
   "outputs": [],
   "source": [
    "medium_data['title'] = medium_data['title'].apply(lambda x: x.replace(u'\\xa0',u' '))\n",
    "medium_data['title'] = medium_data['title'].apply(lambda x: x.replace('\\u200a',' '))"
   ]
  },
  {
   "cell_type": "markdown",
   "id": "5f44bd86",
   "metadata": {},
   "source": [
    "# Tokenzation"
   ]
  },
  {
   "cell_type": "code",
   "execution_count": 6,
   "id": "ddf6a9a7",
   "metadata": {},
   "outputs": [
    {
     "name": "stdout",
     "output_type": "stream",
     "text": [
      "Total number of words:  8238\n",
      "Word: ID\n",
      "------------\n",
      "<oov>:  1\n",
      "Strong:  4\n",
      "And:  8\n",
      "Consumption:  8237\n"
     ]
    }
   ],
   "source": [
    "tokenizer = Tokenizer(oov_token='<oov>') # For those words which are not found in word_index\n",
    "tokenizer.fit_on_texts(medium_data['title'])\n",
    "total_words = len(tokenizer.word_index) + 1\n",
    "\n",
    "print(\"Total number of words: \", total_words)\n",
    "print(\"Word: ID\")\n",
    "print(\"------------\")\n",
    "print(\"<oov>: \", tokenizer.word_index['<oov>'])\n",
    "print(\"Strong: \", tokenizer.word_index['strong'])\n",
    "print(\"And: \", tokenizer.word_index['and'])\n",
    "print(\"Consumption: \", tokenizer.word_index['consumption'])"
   ]
  },
  {
   "cell_type": "code",
   "execution_count": 7,
   "id": "4c572d81",
   "metadata": {},
   "outputs": [
    {
     "name": "stdout",
     "output_type": "stream",
     "text": [
      "Total input sequences:  48461\n"
     ]
    }
   ],
   "source": [
    "input_sequences = []\n",
    "for line in medium_data['title']:\n",
    "    token_list = tokenizer.texts_to_sequences([line])[0]\n",
    "    #print(token_list)\n",
    "    \n",
    "    for i in range(1, len(token_list)):\n",
    "        n_gram_sequence = token_list[:i+1]\n",
    "        input_sequences.append(n_gram_sequence)\n",
    "\n",
    "# print(input_sequences)\n",
    "print(\"Total input sequences: \", len(input_sequences))"
   ]
  },
  {
   "cell_type": "code",
   "execution_count": 8,
   "id": "78b038d2",
   "metadata": {},
   "outputs": [
    {
     "data": {
      "text/plain": [
       "array([  0,   0,   0,   0,   0,   0,   0,   0,   0,   0,   0,   0,   0,\n",
       "         0,   0,   0,   0,   0,   0,   0,   0,   0,   0,   0,   0,   0,\n",
       "         0,   0,   0,   0,   0,   0,   0,   0,   0,   0,   0,   5, 676,\n",
       "        68])"
      ]
     },
     "execution_count": 8,
     "metadata": {},
     "output_type": "execute_result"
    }
   ],
   "source": [
    "max_sequence_len = max([len(x) for x in input_sequences])\n",
    "input_sequences = np.array(pad_sequences(input_sequences, maxlen=max_sequence_len, padding='pre'))\n",
    "input_sequences[1]"
   ]
  },
  {
   "cell_type": "code",
   "execution_count": 9,
   "id": "b220fc4b",
   "metadata": {},
   "outputs": [],
   "source": [
    "xs, labels = input_sequences[:,:-1],input_sequences[:,-1]\n",
    "ys = tf.keras.utils.to_categorical(labels, num_classes=total_words)"
   ]
  },
  {
   "cell_type": "code",
   "execution_count": 10,
   "id": "bb902d9e",
   "metadata": {},
   "outputs": [
    {
     "name": "stdout",
     "output_type": "stream",
     "text": [
      "[   0    0    0    0    0    0    0    0    0    0    0    0    0    0\n",
      "    0    0    0    0    0    0    0    0    0    0    0    0    0    0\n",
      "    0    0    0    0    0    5  676   68    2  452 1518]\n",
      "14\n",
      "1.0\n"
     ]
    }
   ],
   "source": [
    "print(xs[5])\n",
    "print(labels[5])\n",
    "print(ys[5][14])"
   ]
  },
  {
   "cell_type": "markdown",
   "id": "e61d7292",
   "metadata": {},
   "source": [
    "# Architechture of Bidirectional LSTM Neural Network"
   ]
  },
  {
   "cell_type": "markdown",
   "id": "f5024765",
   "metadata": {},
   "source": [
    "Long Short-Term Memory (LSTM) networks is an advance recurrent neural network which is apable to store order states by using its cell state feature."
   ]
  },
  {
   "cell_type": "markdown",
   "id": "fefcba53",
   "metadata": {},
   "source": [
    "# Bi- LSTM Neural Network Model training"
   ]
  },
  {
   "cell_type": "code",
   "execution_count": 11,
   "id": "3e118ecf",
   "metadata": {},
   "outputs": [
    {
     "name": "stderr",
     "output_type": "stream",
     "text": [
      "WARNING:absl:`lr` is deprecated, please use `learning_rate` instead, or use the legacy optimizer, e.g.,tf.keras.optimizers.legacy.Adam.\n"
     ]
    },
    {
     "name": "stdout",
     "output_type": "stream",
     "text": [
      "Epoch 1/50\n",
      "1515/1515 [==============================] - 200s 128ms/step - loss: 7.0025 - accuracy: 0.0811\n",
      "Epoch 2/50\n",
      "1515/1515 [==============================] - 216s 143ms/step - loss: 6.1729 - accuracy: 0.1367\n",
      "Epoch 3/50\n",
      "1515/1515 [==============================] - 4319s 3s/step - loss: 5.6486 - accuracy: 0.1677\n",
      "Epoch 4/50\n",
      "1515/1515 [==============================] - 182s 120ms/step - loss: 5.1813 - accuracy: 0.1891\n",
      "Epoch 5/50\n",
      "1515/1515 [==============================] - 185s 122ms/step - loss: 4.7378 - accuracy: 0.2161\n",
      "Epoch 6/50\n",
      "1515/1515 [==============================] - 199s 132ms/step - loss: 4.3146 - accuracy: 0.2457\n",
      "Epoch 7/50\n",
      "1515/1515 [==============================] - 204s 135ms/step - loss: 3.9154 - accuracy: 0.2864\n",
      "Epoch 8/50\n",
      "1515/1515 [==============================] - 199s 132ms/step - loss: 3.5364 - accuracy: 0.3358\n",
      "Epoch 9/50\n",
      "1515/1515 [==============================] - 208s 137ms/step - loss: 3.1800 - accuracy: 0.3883\n",
      "Epoch 10/50\n",
      "1515/1515 [==============================] - 224s 148ms/step - loss: 2.8595 - accuracy: 0.4447\n",
      "Epoch 11/50\n",
      "1515/1515 [==============================] - 224s 148ms/step - loss: 2.5685 - accuracy: 0.4981\n",
      "Epoch 12/50\n",
      "1515/1515 [==============================] - 238s 157ms/step - loss: 2.3147 - accuracy: 0.5424\n",
      "Epoch 13/50\n",
      "1515/1515 [==============================] - 219s 144ms/step - loss: 2.0884 - accuracy: 0.5840\n",
      "Epoch 14/50\n",
      "1515/1515 [==============================] - 242s 160ms/step - loss: 1.8903 - accuracy: 0.6233\n",
      "Epoch 15/50\n",
      "1515/1515 [==============================] - 242s 160ms/step - loss: 1.7146 - accuracy: 0.6587\n",
      "Epoch 16/50\n",
      "1515/1515 [==============================] - 241s 159ms/step - loss: 1.5603 - accuracy: 0.6878\n",
      "Epoch 17/50\n",
      "1515/1515 [==============================] - 231s 153ms/step - loss: 1.4254 - accuracy: 0.7155\n",
      "Epoch 18/50\n",
      "1515/1515 [==============================] - 267s 176ms/step - loss: 1.3078 - accuracy: 0.7391\n",
      "Epoch 19/50\n",
      "1515/1515 [==============================] - 315s 208ms/step - loss: 1.2029 - accuracy: 0.7595\n",
      "Epoch 20/50\n",
      "1515/1515 [==============================] - 315s 208ms/step - loss: 1.1151 - accuracy: 0.7764\n",
      "Epoch 21/50\n",
      "1515/1515 [==============================] - 323s 213ms/step - loss: 1.0380 - accuracy: 0.7897\n",
      "Epoch 22/50\n",
      "1515/1515 [==============================] - 321s 212ms/step - loss: 0.9710 - accuracy: 0.8034\n",
      "Epoch 23/50\n",
      "1515/1515 [==============================] - 320s 211ms/step - loss: 0.9141 - accuracy: 0.8129\n",
      "Epoch 24/50\n",
      "1515/1515 [==============================] - 328s 217ms/step - loss: 0.8646 - accuracy: 0.8229\n",
      "Epoch 25/50\n",
      "1515/1515 [==============================] - 334s 220ms/step - loss: 0.8239 - accuracy: 0.8292\n",
      "Epoch 26/50\n",
      "1515/1515 [==============================] - 907s 599ms/step - loss: 0.7871 - accuracy: 0.8342\n",
      "Epoch 27/50\n",
      "1515/1515 [==============================] - 877s 579ms/step - loss: 0.7562 - accuracy: 0.8397\n",
      "Epoch 28/50\n",
      "1515/1515 [==============================] - 3280s 2s/step - loss: 0.7286 - accuracy: 0.8430\n",
      "Epoch 29/50\n",
      "1515/1515 [==============================] - 623s 412ms/step - loss: 0.7094 - accuracy: 0.8444\n",
      "Epoch 30/50\n",
      "1515/1515 [==============================] - 343s 226ms/step - loss: 0.6883 - accuracy: 0.8481\n",
      "Epoch 31/50\n",
      "1515/1515 [==============================] - 348s 230ms/step - loss: 0.6716 - accuracy: 0.8494\n",
      "Epoch 32/50\n",
      "1515/1515 [==============================] - 340s 224ms/step - loss: 0.6575 - accuracy: 0.8516\n",
      "Epoch 33/50\n",
      "1515/1515 [==============================] - 362s 239ms/step - loss: 0.6476 - accuracy: 0.8521\n",
      "Epoch 34/50\n",
      "1515/1515 [==============================] - 371s 245ms/step - loss: 0.6368 - accuracy: 0.8529\n",
      "Epoch 35/50\n",
      "1515/1515 [==============================] - 379s 250ms/step - loss: 0.6288 - accuracy: 0.8531\n",
      "Epoch 36/50\n",
      "1515/1515 [==============================] - 362s 239ms/step - loss: 0.6203 - accuracy: 0.8536\n",
      "Epoch 37/50\n",
      "1515/1515 [==============================] - 360s 237ms/step - loss: 0.6133 - accuracy: 0.8547\n",
      "Epoch 38/50\n",
      "1515/1515 [==============================] - 195s 129ms/step - loss: 0.6073 - accuracy: 0.8545\n",
      "Epoch 39/50\n",
      "1515/1515 [==============================] - 220s 145ms/step - loss: 0.6024 - accuracy: 0.8551\n",
      "Epoch 40/50\n",
      "1515/1515 [==============================] - 361s 238ms/step - loss: 0.5966 - accuracy: 0.8557\n",
      "Epoch 41/50\n",
      "1515/1515 [==============================] - 210s 139ms/step - loss: 0.5954 - accuracy: 0.8545\n",
      "Epoch 42/50\n",
      "1515/1515 [==============================] - 218s 144ms/step - loss: 0.5903 - accuracy: 0.8547\n",
      "Epoch 43/50\n",
      "1515/1515 [==============================] - 231s 152ms/step - loss: 0.5858 - accuracy: 0.8553\n",
      "Epoch 44/50\n",
      "1515/1515 [==============================] - 245s 162ms/step - loss: 0.5835 - accuracy: 0.8554\n",
      "Epoch 45/50\n",
      "1515/1515 [==============================] - 255s 169ms/step - loss: 0.5814 - accuracy: 0.8551\n",
      "Epoch 46/50\n",
      "1515/1515 [==============================] - 254s 167ms/step - loss: 0.5774 - accuracy: 0.8552\n",
      "Epoch 47/50\n",
      "1515/1515 [==============================] - 242s 160ms/step - loss: 0.5757 - accuracy: 0.8557\n",
      "Epoch 48/50\n",
      "1515/1515 [==============================] - 244s 161ms/step - loss: 0.5736 - accuracy: 0.8552\n",
      "Epoch 49/50\n",
      "1515/1515 [==============================] - 251s 165ms/step - loss: 0.5721 - accuracy: 0.8556\n",
      "Epoch 50/50\n",
      "1515/1515 [==============================] - 249s 164ms/step - loss: 0.5689 - accuracy: 0.8552\n",
      "<keras.engine.sequential.Sequential object at 0x000001FF51D36550>\n"
     ]
    }
   ],
   "source": [
    "model = Sequential()\n",
    "model.add(Embedding(total_words, 100, input_length=max_sequence_len-1))\n",
    "model.add(Bidirectional(LSTM(150)))\n",
    "model.add(Dense(total_words, activation='softmax'))\n",
    "adam = Adam(lr=0.01)\n",
    "model.compile(loss='categorical_crossentropy', optimizer=adam, metrics=['accuracy'])\n",
    "history = model.fit(xs, ys, epochs=50, verbose=1)\n",
    "#print model.summary()\n",
    "print(model)"
   ]
  },
  {
   "cell_type": "code",
   "execution_count": 12,
   "id": "be1a2356",
   "metadata": {},
   "outputs": [],
   "source": [
    "import matplotlib.pyplot as plt\n",
    "\n",
    "\n",
    "def plot_graphs(history, string):\n",
    "    plt.plot(history.history[string])\n",
    "    plt.xlabel(\"Epochs\")\n",
    "    plt.ylabel(string)\n",
    "    plt.show()"
   ]
  },
  {
   "cell_type": "code",
   "execution_count": 13,
   "id": "a9967a6e",
   "metadata": {},
   "outputs": [
    {
     "data": {
      "image/png": "[encoded data removed]",
      "text/plain": [
       "<Figure size 432x288 with 1 Axes>"
      ]
     },
     "metadata": {
      "needs_background": "light"
     },
     "output_type": "display_data"
    }
   ],
   "source": [
    "plot_graphs(history, 'accuracy')"
   ]
  },
  {
   "cell_type": "code",
   "execution_count": 14,
   "id": "399c8bc0",
   "metadata": {},
   "outputs": [
    {
     "data": {
      "image/png": "[encoded data removed]",
      "text/plain": [
       "<Figure size 432x288 with 1 Axes>"
      ]
     },
     "metadata": {
      "needs_background": "light"
     },
     "output_type": "display_data"
    }
   ],
   "source": [
    "plot_graphs(history, 'loss')"
   ]
  },
  {
   "cell_type": "code",
   "execution_count": null,
   "id": "1ee6aee1",
   "metadata": {},
   "outputs": [],
   "source": []
  }
 ],
 "metadata": {
  "kernelspec": {
   "display_name": "Python 3 (ipykernel)",
   "language": "python",
   "name": "python3"
  },
  "language_info": {
   "codemirror_mode": {
    "name": "ipython",
    "version": 3
   },
   "file_extension": ".py",
   "mimetype": "text/x-python",
   "name": "python",
   "nbconvert_exporter": "python",
   "pygments_lexer": "ipython3",
   "version": "3.9.12"
  }
 },
 "nbformat": 4,
 "nbformat_minor": 5
}
